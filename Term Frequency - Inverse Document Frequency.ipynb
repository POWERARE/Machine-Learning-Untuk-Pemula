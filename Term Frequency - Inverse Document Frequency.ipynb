{
 "cells": [
  {
   "cell_type": "markdown",
   "id": "c9838e99",
   "metadata": {},
   "source": [
    "# TERM FREQUENCY - INVERSE DOCUMENT FREQUENCY"
   ]
  },
  {
   "cell_type": "markdown",
   "id": "d7dc4073",
   "metadata": {},
   "source": [
    "Merupakan salah satu metode statistik dalam mengukur seberapa penting suatu kata terhadap suatu dokumen tertentu yang terbentuk dari sekumpulan kalimat atau corpus."
   ]
  },
  {
   "cell_type": "markdown",
   "id": "0a513b93",
   "metadata": {},
   "source": [
    "## DATASET"
   ]
  },
  {
   "cell_type": "code",
   "execution_count": 1,
   "id": "840fa3b0",
   "metadata": {},
   "outputs": [
    {
     "data": {
      "text/plain": [
       "['the house had a tiny little mouse',\n",
       " 'the cat saw the mouse',\n",
       " 'the mouse ran away from the cat',\n",
       " 'the cat finally got the mouse',\n",
       " 'the end of the cat story']"
      ]
     },
     "execution_count": 1,
     "metadata": {},
     "output_type": "execute_result"
    }
   ],
   "source": [
    "corpus = [\n",
    "          'the house had a tiny little mouse',\n",
    "          'the cat saw the mouse',\n",
    "          'the mouse ran away from the cat',\n",
    "          'the cat finally got the mouse',\n",
    "          'the end of the cat story',\n",
    "         ]\n",
    "\n",
    "corpus"
   ]
  },
  {
   "cell_type": "markdown",
   "id": "68df41c4",
   "metadata": {},
   "source": [
    "## TF-IDF WEIGHTS DENGAN `TfidfVectorizer`"
   ]
  },
  {
   "cell_type": "code",
   "execution_count": 6,
   "id": "5322096f",
   "metadata": {},
   "outputs": [
    {
     "name": "stdout",
     "output_type": "stream",
     "text": [
      "  (0, 7)\t0.30931749359185684\n",
      "  (0, 6)\t0.5490363340004775\n",
      "  (0, 11)\t0.5490363340004775\n",
      "  (0, 5)\t0.5490363340004775\n",
      "  (1, 9)\t0.7821097692612783\n",
      "  (1, 1)\t0.44062700145705425\n",
      "  (1, 7)\t0.44062700145705425\n",
      "  (2, 0)\t0.6160645062907986\n",
      "  (2, 8)\t0.6160645062907986\n",
      "  (2, 1)\t0.3470799966703276\n",
      "  (2, 7)\t0.3470799966703276\n",
      "  (3, 4)\t0.6160645062907986\n",
      "  (3, 3)\t0.6160645062907986\n",
      "  (3, 1)\t0.3470799966703276\n",
      "  (3, 7)\t0.3470799966703276\n",
      "  (4, 10)\t0.6569003716341058\n",
      "  (4, 2)\t0.6569003716341058\n",
      "  (4, 1)\t0.3700862108940939\n"
     ]
    }
   ],
   "source": [
    "from sklearn.feature_extraction.text import TfidfVectorizer\n",
    "\n",
    "vectorizer = TfidfVectorizer(stop_words ='english')\n",
    "response = vectorizer.fit_transform(corpus)\n",
    "print(response)"
   ]
  },
  {
   "cell_type": "code",
   "execution_count": 22,
   "id": "70676c95",
   "metadata": {},
   "outputs": [
    {
     "data": {
      "text/plain": [
       "['away',\n",
       " 'cat',\n",
       " 'end',\n",
       " 'finally',\n",
       " 'got',\n",
       " 'house',\n",
       " 'little',\n",
       " 'mouse',\n",
       " 'ran',\n",
       " 'saw',\n",
       " 'story',\n",
       " 'tiny']"
      ]
     },
     "execution_count": 22,
     "metadata": {},
     "output_type": "execute_result"
    }
   ],
   "source": [
    "vectorizer.get_feature_names()"
   ]
  },
  {
   "cell_type": "code",
   "execution_count": 35,
   "id": "e6e3dfc9",
   "metadata": {},
   "outputs": [
    {
     "data": {
      "text/html": [
       "<div>\n",
       "<style scoped>\n",
       "    .dataframe tbody tr th:only-of-type {\n",
       "        vertical-align: middle;\n",
       "    }\n",
       "\n",
       "    .dataframe tbody tr th {\n",
       "        vertical-align: top;\n",
       "    }\n",
       "\n",
       "    .dataframe thead th {\n",
       "        text-align: right;\n",
       "    }\n",
       "</style>\n",
       "<table border=\"1\" class=\"dataframe\">\n",
       "  <thead>\n",
       "    <tr style=\"text-align: right;\">\n",
       "      <th></th>\n",
       "      <th>D1</th>\n",
       "      <th>D2</th>\n",
       "      <th>D3</th>\n",
       "      <th>D4</th>\n",
       "      <th>D5</th>\n",
       "    </tr>\n",
       "  </thead>\n",
       "  <tbody>\n",
       "    <tr>\n",
       "      <th>away</th>\n",
       "      <td>0.000000</td>\n",
       "      <td>0.000000</td>\n",
       "      <td>0.616065</td>\n",
       "      <td>0.000000</td>\n",
       "      <td>0.000000</td>\n",
       "    </tr>\n",
       "    <tr>\n",
       "      <th>cat</th>\n",
       "      <td>0.000000</td>\n",
       "      <td>0.440627</td>\n",
       "      <td>0.347080</td>\n",
       "      <td>0.347080</td>\n",
       "      <td>0.370086</td>\n",
       "    </tr>\n",
       "    <tr>\n",
       "      <th>end</th>\n",
       "      <td>0.000000</td>\n",
       "      <td>0.000000</td>\n",
       "      <td>0.000000</td>\n",
       "      <td>0.000000</td>\n",
       "      <td>0.656900</td>\n",
       "    </tr>\n",
       "    <tr>\n",
       "      <th>finally</th>\n",
       "      <td>0.000000</td>\n",
       "      <td>0.000000</td>\n",
       "      <td>0.000000</td>\n",
       "      <td>0.616065</td>\n",
       "      <td>0.000000</td>\n",
       "    </tr>\n",
       "    <tr>\n",
       "      <th>got</th>\n",
       "      <td>0.000000</td>\n",
       "      <td>0.000000</td>\n",
       "      <td>0.000000</td>\n",
       "      <td>0.616065</td>\n",
       "      <td>0.000000</td>\n",
       "    </tr>\n",
       "    <tr>\n",
       "      <th>house</th>\n",
       "      <td>0.549036</td>\n",
       "      <td>0.000000</td>\n",
       "      <td>0.000000</td>\n",
       "      <td>0.000000</td>\n",
       "      <td>0.000000</td>\n",
       "    </tr>\n",
       "    <tr>\n",
       "      <th>little</th>\n",
       "      <td>0.549036</td>\n",
       "      <td>0.000000</td>\n",
       "      <td>0.000000</td>\n",
       "      <td>0.000000</td>\n",
       "      <td>0.000000</td>\n",
       "    </tr>\n",
       "    <tr>\n",
       "      <th>mouse</th>\n",
       "      <td>0.309317</td>\n",
       "      <td>0.440627</td>\n",
       "      <td>0.347080</td>\n",
       "      <td>0.347080</td>\n",
       "      <td>0.000000</td>\n",
       "    </tr>\n",
       "    <tr>\n",
       "      <th>ran</th>\n",
       "      <td>0.000000</td>\n",
       "      <td>0.000000</td>\n",
       "      <td>0.616065</td>\n",
       "      <td>0.000000</td>\n",
       "      <td>0.000000</td>\n",
       "    </tr>\n",
       "    <tr>\n",
       "      <th>saw</th>\n",
       "      <td>0.000000</td>\n",
       "      <td>0.782110</td>\n",
       "      <td>0.000000</td>\n",
       "      <td>0.000000</td>\n",
       "      <td>0.000000</td>\n",
       "    </tr>\n",
       "    <tr>\n",
       "      <th>story</th>\n",
       "      <td>0.000000</td>\n",
       "      <td>0.000000</td>\n",
       "      <td>0.000000</td>\n",
       "      <td>0.000000</td>\n",
       "      <td>0.656900</td>\n",
       "    </tr>\n",
       "    <tr>\n",
       "      <th>tiny</th>\n",
       "      <td>0.549036</td>\n",
       "      <td>0.000000</td>\n",
       "      <td>0.000000</td>\n",
       "      <td>0.000000</td>\n",
       "      <td>0.000000</td>\n",
       "    </tr>\n",
       "  </tbody>\n",
       "</table>\n",
       "</div>"
      ],
      "text/plain": [
       "               D1        D2        D3        D4        D5\n",
       "away     0.000000  0.000000  0.616065  0.000000  0.000000\n",
       "cat      0.000000  0.440627  0.347080  0.347080  0.370086\n",
       "end      0.000000  0.000000  0.000000  0.000000  0.656900\n",
       "finally  0.000000  0.000000  0.000000  0.616065  0.000000\n",
       "got      0.000000  0.000000  0.000000  0.616065  0.000000\n",
       "house    0.549036  0.000000  0.000000  0.000000  0.000000\n",
       "little   0.549036  0.000000  0.000000  0.000000  0.000000\n",
       "mouse    0.309317  0.440627  0.347080  0.347080  0.000000\n",
       "ran      0.000000  0.000000  0.616065  0.000000  0.000000\n",
       "saw      0.000000  0.782110  0.000000  0.000000  0.000000\n",
       "story    0.000000  0.000000  0.000000  0.000000  0.656900\n",
       "tiny     0.549036  0.000000  0.000000  0.000000  0.000000"
      ]
     },
     "execution_count": 35,
     "metadata": {},
     "output_type": "execute_result"
    }
   ],
   "source": [
    "import pandas as pd\n",
    "\n",
    "df = pd.DataFrame(\n",
    "                  response.todense().T, \n",
    "                  index = vectorizer.get_feature_names_out(),\n",
    "                  columns =[f'D{i+1}' for i in range(len(corpus))]\n",
    "                 )\n",
    "\n",
    "df"
   ]
  }
 ],
 "metadata": {
  "kernelspec": {
   "display_name": "Python 3 (ipykernel)",
   "language": "python",
   "name": "python3"
  },
  "language_info": {
   "codemirror_mode": {
    "name": "ipython",
    "version": 3
   },
   "file_extension": ".py",
   "mimetype": "text/x-python",
   "name": "python",
   "nbconvert_exporter": "python",
   "pygments_lexer": "ipython3",
   "version": "3.8.0"
  }
 },
 "nbformat": 4,
 "nbformat_minor": 5
}
