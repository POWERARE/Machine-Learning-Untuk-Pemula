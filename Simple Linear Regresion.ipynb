{
 "cells": [
  {
   "cell_type": "markdown",
   "id": "22d49797",
   "metadata": {},
   "source": [
    "# SIMPLE LINEAR REGRESION"
   ]
  },
  {
   "cell_type": "markdown",
   "id": "a501a1c7",
   "metadata": {},
   "source": [
    "Simple Linear Regression memodelkan hubungan antara response variable terhadap explanatory variable sebagai garis lurus (linear)"
   ]
  },
  {
   "cell_type": "markdown",
   "id": "342bc22c",
   "metadata": {},
   "source": [
    "# SAMPLE DATASET"
   ]
  },
  {
   "cell_type": "markdown",
   "id": "1ff780fd",
   "metadata": {},
   "source": [
    "Tahapan ini merupakan persiapan dataset yang dibuat secara manual untuk membentuk model dari simple linear regression"
   ]
  },
  {
   "cell_type": "code",
   "execution_count": 1,
   "id": "0f8609f3",
   "metadata": {},
   "outputs": [
    {
     "data": {
      "text/html": [
       "<div>\n",
       "<style scoped>\n",
       "    .dataframe tbody tr th:only-of-type {\n",
       "        vertical-align: middle;\n",
       "    }\n",
       "\n",
       "    .dataframe tbody tr th {\n",
       "        vertical-align: top;\n",
       "    }\n",
       "\n",
       "    .dataframe thead th {\n",
       "        text-align: right;\n",
       "    }\n",
       "</style>\n",
       "<table border=\"1\" class=\"dataframe\">\n",
       "  <thead>\n",
       "    <tr style=\"text-align: right;\">\n",
       "      <th></th>\n",
       "      <th>diameter</th>\n",
       "      <th>harga</th>\n",
       "    </tr>\n",
       "  </thead>\n",
       "  <tbody>\n",
       "    <tr>\n",
       "      <th>0</th>\n",
       "      <td>6</td>\n",
       "      <td>7</td>\n",
       "    </tr>\n",
       "    <tr>\n",
       "      <th>1</th>\n",
       "      <td>8</td>\n",
       "      <td>9</td>\n",
       "    </tr>\n",
       "    <tr>\n",
       "      <th>2</th>\n",
       "      <td>10</td>\n",
       "      <td>13</td>\n",
       "    </tr>\n",
       "    <tr>\n",
       "      <th>3</th>\n",
       "      <td>14</td>\n",
       "      <td>17</td>\n",
       "    </tr>\n",
       "    <tr>\n",
       "      <th>4</th>\n",
       "      <td>18</td>\n",
       "      <td>18</td>\n",
       "    </tr>\n",
       "  </tbody>\n",
       "</table>\n",
       "</div>"
      ],
      "text/plain": [
       "   diameter  harga\n",
       "0         6      7\n",
       "1         8      9\n",
       "2        10     13\n",
       "3        14     17\n",
       "4        18     18"
      ]
     },
     "execution_count": 1,
     "metadata": {},
     "output_type": "execute_result"
    }
   ],
   "source": [
    "import pandas as pd\n",
    "\n",
    "pizza = {'diameter' : [6, 8, 10, 14, 18],\n",
    "         'harga' : [7, 9, 13, 17, 18]\n",
    "        }\n",
    "\n",
    "pizza_df = pd.DataFrame(pizza)\n",
    "pizza_df"
   ]
  },
  {
   "cell_type": "markdown",
   "id": "d4312a0a",
   "metadata": {},
   "source": [
    "# VISUALISAI DATA"
   ]
  },
  {
   "cell_type": "code",
   "execution_count": 2,
   "id": "84472ba9",
   "metadata": {},
   "outputs": [
    {
     "data": {
      "text/plain": [
       "<function matplotlib.pyplot.show(close=None, block=None)>"
      ]
     },
     "execution_count": 2,
     "metadata": {},
     "output_type": "execute_result"
    },
    {
     "data": {
      "image/png": "[encoded data removed]",
      "text/plain": [
       "<Figure size 432x288 with 1 Axes>"
      ]
     },
     "metadata": {
      "needs_background": "light"
     },
     "output_type": "display_data"
    }
   ],
   "source": [
    "import matplotlib.pyplot as plt\n",
    "\n",
    "plt.scatter(x = pizza_df['diameter'], y = pizza_df['harga'])\n",
    "\n",
    "plt.title('Perbandingan Harga Pizza terhadap Diameter')\n",
    "plt.xlabel('Diameter (inch)')\n",
    "plt.ylabel('Harga (dollar)')\n",
    "plt.xlim(0,25)\n",
    "plt.ylim(0,25)\n",
    "plt.grid(True)\n",
    "plt.show"
   ]
  },
  {
   "cell_type": "markdown",
   "id": "d12cc422",
   "metadata": {},
   "source": [
    "# PENYESUAIAN DATASET"
   ]
  },
  {
   "cell_type": "code",
   "execution_count": 3,
   "id": "98dbb4dc",
   "metadata": {},
   "outputs": [
    {
     "name": "stdout",
     "output_type": "stream",
     "text": [
      "X = [ 6  8 10 14 18]\n",
      "y = [ 7  9 13 17 18]\n"
     ]
    }
   ],
   "source": [
    "import numpy as np\n",
    "\n",
    "X = np.array(pizza_df['diameter'])\n",
    "y = np.array(pizza_df['harga'])\n",
    "\n",
    "print(f'X = {X}')\n",
    "print(f'y = {y}')"
   ]
  },
  {
   "cell_type": "code",
   "execution_count": 4,
   "id": "f4404c7a",
   "metadata": {},
   "outputs": [
    {
     "data": {
      "text/plain": [
       "(5, 1)"
      ]
     },
     "execution_count": 4,
     "metadata": {},
     "output_type": "execute_result"
    }
   ],
   "source": [
    "X = X.reshape(-1,1)\n",
    "X.shape"
   ]
  },
  {
   "cell_type": "code",
   "execution_count": 5,
   "id": "726ca5a3",
   "metadata": {},
   "outputs": [
    {
     "data": {
      "text/plain": [
       "array([[ 6],\n",
       "       [ 8],\n",
       "       [10],\n",
       "       [14],\n",
       "       [18]], dtype=int64)"
      ]
     },
     "execution_count": 5,
     "metadata": {},
     "output_type": "execute_result"
    }
   ],
   "source": [
    "X"
   ]
  },
  {
   "cell_type": "markdown",
   "id": "19bf1e35",
   "metadata": {},
   "source": [
    "# TRAINING SIMPLE LINEAR REGRESSION"
   ]
  },
  {
   "cell_type": "code",
   "execution_count": 6,
   "id": "8d9503f9",
   "metadata": {},
   "outputs": [
    {
     "data": {
      "text/plain": [
       "LinearRegression()"
      ]
     },
     "execution_count": 6,
     "metadata": {},
     "output_type": "execute_result"
    }
   ],
   "source": [
    "from sklearn.linear_model import LinearRegression\n",
    "\n",
    "model = LinearRegression()\n",
    "model.fit(X, y)"
   ]
  },
  {
   "cell_type": "markdown",
   "id": "9803996e",
   "metadata": {},
   "source": [
    "# VISUALISASI SIMPLE LINEAR REGRESSION"
   ]
  },
  {
   "cell_type": "code",
   "execution_count": 7,
   "id": "e4bfff34",
   "metadata": {},
   "outputs": [
    {
     "data": {
      "text/plain": [
       "array([ 2.03448276, 26.06465517, 11.64655172, 22.21982759])"
      ]
     },
     "execution_count": 7,
     "metadata": {},
     "output_type": "execute_result"
    }
   ],
   "source": [
    "X_test = np.array([0, 25, 10, 21]).reshape(-1, 1)\n",
    "y_test = model.predict(X_test)\n",
    "y_test"
   ]
  },
  {
   "cell_type": "code",
   "execution_count": 8,
   "id": "670ed49c",
   "metadata": {},
   "outputs": [
    {
     "data": {
      "text/plain": [
       "<function matplotlib.pyplot.show(close=None, block=None)>"
      ]
     },
     "execution_count": 8,
     "metadata": {},
     "output_type": "execute_result"
    },
    {
     "data": {
      "image/png": "[encoded data removed]",
      "text/plain": [
       "<Figure size 432x288 with 1 Axes>"
      ]
     },
     "metadata": {
      "needs_background": "light"
     },
     "output_type": "display_data"
    }
   ],
   "source": [
    "plt.scatter(X, y)\n",
    "plt.plot(X_test, y_test, '-r')\n",
    "\n",
    "plt.title('Perbandingan Harga terhadap Diameter Pizza')\n",
    "plt.xlabel('Diameter(inch)')\n",
    "plt.ylabel('Harga(dollar)')\n",
    "plt.xlim(0, 25)\n",
    "plt.ylim(0, 25)\n",
    "plt.grid(True)\n",
    "plt.show"
   ]
  },
  {
   "cell_type": "markdown",
   "id": "d658d9ea",
   "metadata": {},
   "source": [
    "# RUMUS SIMPLE LINEAR REGRESSION"
   ]
  },
  {
   "attachments": {
    "SLR.jpg": {
     "image/jpeg": "[encoded data removed]"
    }
   },
   "cell_type": "markdown",
   "id": "cb0434ec",
   "metadata": {},
   "source": [
    "![SLR.jpg](attachment:SLR.jpg)"
   ]
  },
  {
   "cell_type": "code",
   "execution_count": 9,
   "id": "f176a74e",
   "metadata": {},
   "outputs": [
    {
     "name": "stdout",
     "output_type": "stream",
     "text": [
      "intercept = 2.034482758620692\n",
      "slope = [0.9612069]\n"
     ]
    }
   ],
   "source": [
    "print(f'intercept = {model.intercept_}')\n",
    "print(f'slope = {model.coef_}')"
   ]
  },
  {
   "cell_type": "markdown",
   "id": "f0038dfe",
   "metadata": {},
   "source": [
    "# MENCARI NILAI SLOPE"
   ]
  },
  {
   "cell_type": "markdown",
   "id": "e9c22e60",
   "metadata": {},
   "source": [
    "Nilai slope pada simple linear regression dapat dihitung dengan formula berikut,"
   ]
  },
  {
   "attachments": {
    "messageImage_1673575099335.jpg": {
     "image/jpeg": "[encoded data removed]"
    }
   },
   "cell_type": "markdown",
   "id": "9863bbaf",
   "metadata": {},
   "source": [
    "![messageImage_1673575099335.jpg](attachment:messageImage_1673575099335.jpg)"
   ]
  },
  {
   "cell_type": "markdown",
   "id": "5e1b0ac4",
   "metadata": {},
   "source": [
    "Dimana : </br>\n",
    "cov = covariance </br>\n",
    "x   = feature </br>\n",
    "y   = target </br>\n",
    "var = variance </br>"
   ]
  },
  {
   "cell_type": "markdown",
   "id": "48912abf",
   "metadata": {},
   "source": [
    "## Variance"
   ]
  },
  {
   "cell_type": "code",
   "execution_count": 14,
   "id": "7f76b25b",
   "metadata": {},
   "outputs": [
    {
     "name": "stdout",
     "output_type": "stream",
     "text": [
      "variance = 23.2\n"
     ]
    }
   ],
   "source": [
    "variance_x = np.var(X.flatten(), ddof = 1)\n",
    "print(f'variance = {variance_x}')"
   ]
  },
  {
   "cell_type": "markdown",
   "id": "c0061c88",
   "metadata": {},
   "source": [
    "## Covariance"
   ]
  },
  {
   "cell_type": "code",
   "execution_count": 17,
   "id": "89fc154a",
   "metadata": {},
   "outputs": [
    {
     "name": "stdout",
     "output_type": "stream",
     "text": [
      "covariance = 22.299999999999997\n"
     ]
    }
   ],
   "source": [
    "covariance_xy = np.cov(X.flatten(), y)[0][1]\n",
    "print(f'covariance = {covariance_xy}')"
   ]
  },
  {
   "cell_type": "markdown",
   "id": "d2649d46",
   "metadata": {},
   "source": [
    "## Slope"
   ]
  },
  {
   "cell_type": "code",
   "execution_count": 20,
   "id": "645963dc",
   "metadata": {},
   "outputs": [
    {
     "name": "stdout",
     "output_type": "stream",
     "text": [
      "Slope = 0.9612068965517241\n"
     ]
    }
   ],
   "source": [
    "slope = covariance_xy / variance_x\n",
    "print(f'Slope = {slope}')"
   ]
  },
  {
   "cell_type": "markdown",
   "id": "1e2f8f2f",
   "metadata": {},
   "source": [
    "# MENCARI NILAI INTERCEPT"
   ]
  },
  {
   "cell_type": "markdown",
   "id": "49727d15",
   "metadata": {},
   "source": [
    "Berikut merupakan formula untuk menghitung nilai intercept dalam simple linear regression"
   ]
  },
  {
   "attachments": {
    "messageImage_1673576634949.jpg": {
     "image/jpeg": "[encoded data removed]"
    }
   },
   "cell_type": "markdown",
   "id": "30428d76",
   "metadata": {},
   "source": [
    "![messageImage_1673576634949.jpg](attachment:messageImage_1673576634949.jpg)"
   ]
  },
  {
   "cell_type": "code",
   "execution_count": 22,
   "id": "ce10c7af",
   "metadata": {},
   "outputs": [
    {
     "name": "stdout",
     "output_type": "stream",
     "text": [
      "Intercept = 2.034482758620692\n"
     ]
    }
   ],
   "source": [
    "intercept = y.mean() - (slope * X.mean())\n",
    "print(f'Intercept = {intercept}')"
   ]
  },
  {
   "cell_type": "markdown",
   "id": "5fb6795c",
   "metadata": {},
   "source": [
    "# PREDIKSI HARGA PIZZA"
   ]
  },
  {
   "cell_type": "code",
   "execution_count": 23,
   "id": "43b6d50f",
   "metadata": {},
   "outputs": [
    {
     "data": {
      "text/plain": [
       "array([[13],\n",
       "       [ 7],\n",
       "       [21]])"
      ]
     },
     "execution_count": 23,
     "metadata": {},
     "output_type": "execute_result"
    }
   ],
   "source": [
    "diameter_pizza = np.array([13, 7, 21]).reshape(-1, 1)\n",
    "diameter_pizza"
   ]
  },
  {
   "cell_type": "code",
   "execution_count": 36,
   "id": "fe8cb523",
   "metadata": {},
   "outputs": [
    {
     "data": {
      "text/plain": [
       "array([14.53017241,  8.76293103, 22.21982759])"
      ]
     },
     "execution_count": 36,
     "metadata": {},
     "output_type": "execute_result"
    }
   ],
   "source": [
    "y_pred = model.predict(diameter_pizza)\n",
    "y_pred"
   ]
  },
  {
   "cell_type": "code",
   "execution_count": 37,
   "id": "67b300cf",
   "metadata": {},
   "outputs": [
    {
     "name": "stdout",
     "output_type": "stream",
     "text": [
      "Diameter : [13] Harga Pizza : 14.530172413793105\n",
      "Diameter : [7] Harga Pizza : 8.762931034482762\n",
      "Diameter : [21] Harga Pizza : 22.219827586206897\n"
     ]
    }
   ],
   "source": [
    "for dmtr, hrg in zip(diameter_pizza, y_pred) :\n",
    "    print(f'Diameter : {dmtr} Harga Pizza : {hrg}')"
   ]
  },
  {
   "cell_type": "markdown",
   "id": "1d8c0779",
   "metadata": {},
   "source": [
    "# EVALUASI SIMPLE LINEAR REGRESSION MODEL"
   ]
  },
  {
   "cell_type": "markdown",
   "id": "6ee48118",
   "metadata": {},
   "source": [
    "## TRAINING & TESTING DATASET"
   ]
  },
  {
   "cell_type": "code",
   "execution_count": 40,
   "id": "cd7d2438",
   "metadata": {},
   "outputs": [],
   "source": [
    "X_train = np.array([6, 8, 10, 14, 18]).reshape(-1,1)\n",
    "y_train = np.array([7, 9, 13, 17.5, 19])\n",
    "\n",
    "X_test = np.array([7, 9, 11, 16, 21]).reshape(-1,1)\n",
    "y_test = np.array([8, 11, 14.5, 18, 23])"
   ]
  },
  {
   "cell_type": "markdown",
   "id": "6f8eb9b6",
   "metadata": {},
   "source": [
    "## TRAINING SIMPLE LINEAR REGRESSION MODEL"
   ]
  },
  {
   "cell_type": "code",
   "execution_count": 41,
   "id": "d7acbf95",
   "metadata": {},
   "outputs": [
    {
     "data": {
      "text/plain": [
       "LinearRegression()"
      ]
     },
     "execution_count": 41,
     "metadata": {},
     "output_type": "execute_result"
    }
   ],
   "source": [
    "model = LinearRegression()\n",
    "model.fit(X_train, y_train)"
   ]
  },
  {
   "cell_type": "markdown",
   "id": "1f42c14f",
   "metadata": {},
   "source": [
    "## Evaluasi R-Squared"
   ]
  },
  {
   "attachments": {
    "messageImage_1673580719141.jpg": {
     "image/jpeg": "[encoded data removed]"
    }
   },
   "cell_type": "markdown",
   "id": "d664f5f5",
   "metadata": {},
   "source": [
    "![messageImage_1673580719141.jpg](attachment:messageImage_1673580719141.jpg)"
   ]
  },
  {
   "cell_type": "markdown",
   "id": "6a86ab4e",
   "metadata": {},
   "source": [
    "## SSres"
   ]
  },
  {
   "cell_type": "code",
   "execution_count": 61,
   "id": "d71d3f90",
   "metadata": {},
   "outputs": [
    {
     "name": "stdout",
     "output_type": "stream",
     "text": [
      "SSres = 3.2819745838287755\n"
     ]
    }
   ],
   "source": [
    "ss_res = sum((y_test - y_pred)**2)\n",
    "print(f'SSres = {ss_res}')"
   ]
  },
  {
   "cell_type": "markdown",
   "id": "eda39e21",
   "metadata": {},
   "source": [
    "## SStot"
   ]
  },
  {
   "cell_type": "code",
   "execution_count": 60,
   "id": "6356e5d4",
   "metadata": {},
   "outputs": [
    {
     "name": "stdout",
     "output_type": "stream",
     "text": [
      "SStot = 138.2\n"
     ]
    }
   ],
   "source": [
    "y_mean = y_test.mean()\n",
    "ss_tot = sum((y_test-y_mean)**2)\n",
    "print(f'SStot = {ss_tot}')"
   ]
  },
  {
   "cell_type": "markdown",
   "id": "aa4bd998",
   "metadata": {},
   "source": [
    "## 1-(SSres/SStot)"
   ]
  },
  {
   "cell_type": "code",
   "execution_count": 62,
   "id": "a0fb7382",
   "metadata": {},
   "outputs": [
    {
     "name": "stdout",
     "output_type": "stream",
     "text": [
      "R-squared = 0.9762519928811232\n"
     ]
    }
   ],
   "source": [
    "r_squared = 1 - (ss_res/ss_tot)\n",
    "print(f'R-squared = {r_squared}')"
   ]
  },
  {
   "cell_type": "markdown",
   "id": "33928187",
   "metadata": {},
   "source": [
    "## R2-Squared dengan Sklearn"
   ]
  },
  {
   "cell_type": "code",
   "execution_count": 45,
   "id": "ba771f86",
   "metadata": {},
   "outputs": [
    {
     "name": "stdout",
     "output_type": "stream",
     "text": [
      "R2-Squared = 0.9762519928811232\n"
     ]
    }
   ],
   "source": [
    "from sklearn.metrics import r2_score\n",
    "\n",
    "y_pred = model.predict(X_test)\n",
    "r2_squared = r2_score(y_test, y_pred)\n",
    "\n",
    "print(f'R2-Squared = {r2_squared}')"
   ]
  }
 ],
 "metadata": {
  "kernelspec": {
   "display_name": "Python 3 (ipykernel)",
   "language": "python",
   "name": "python3"
  },
  "language_info": {
   "codemirror_mode": {
    "name": "ipython",
    "version": 3
   },
   "file_extension": ".py",
   "mimetype": "text/x-python",
   "name": "python",
   "nbconvert_exporter": "python",
   "pygments_lexer": "ipython3",
   "version": "3.8.0"
  }
 },
 "nbformat": 4,
 "nbformat_minor": 5
}
