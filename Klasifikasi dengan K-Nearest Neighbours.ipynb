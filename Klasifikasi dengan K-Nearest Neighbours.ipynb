{
 "cells": [
  {
   "cell_type": "markdown",
   "id": "9d09e348",
   "metadata": {},
   "source": [
    "# KNN (K-Nearest Neighbors)"
   ]
  },
  {
   "cell_type": "markdown",
   "id": "cfde71b6",
   "metadata": {},
   "source": [
    "<ul>1. KNN melakukan prediksi berdasarkan kedekatan karakteristik dengan tetangga terdekat</ul>\n",
    "<ul>2. Prediksi dapat dilakukan pada klasifikasi maupun regresi</ul>\n"
   ]
  },
  {
   "cell_type": "code",
   "execution_count": 1,
   "id": "a510df90",
   "metadata": {},
   "outputs": [
    {
     "data": {
      "text/html": [
       "<div>\n",
       "<style scoped>\n",
       "    .dataframe tbody tr th:only-of-type {\n",
       "        vertical-align: middle;\n",
       "    }\n",
       "\n",
       "    .dataframe tbody tr th {\n",
       "        vertical-align: top;\n",
       "    }\n",
       "\n",
       "    .dataframe thead th {\n",
       "        text-align: right;\n",
       "    }\n",
       "</style>\n",
       "<table border=\"1\" class=\"dataframe\">\n",
       "  <thead>\n",
       "    <tr style=\"text-align: right;\">\n",
       "      <th></th>\n",
       "      <th>berat</th>\n",
       "      <th>tinggi</th>\n",
       "      <th>jk</th>\n",
       "    </tr>\n",
       "  </thead>\n",
       "  <tbody>\n",
       "    <tr>\n",
       "      <th>0</th>\n",
       "      <td>64</td>\n",
       "      <td>158</td>\n",
       "      <td>pria</td>\n",
       "    </tr>\n",
       "    <tr>\n",
       "      <th>1</th>\n",
       "      <td>86</td>\n",
       "      <td>170</td>\n",
       "      <td>pria</td>\n",
       "    </tr>\n",
       "    <tr>\n",
       "      <th>2</th>\n",
       "      <td>84</td>\n",
       "      <td>183</td>\n",
       "      <td>pria</td>\n",
       "    </tr>\n",
       "    <tr>\n",
       "      <th>3</th>\n",
       "      <td>80</td>\n",
       "      <td>191</td>\n",
       "      <td>pria</td>\n",
       "    </tr>\n",
       "    <tr>\n",
       "      <th>4</th>\n",
       "      <td>49</td>\n",
       "      <td>155</td>\n",
       "      <td>wanita</td>\n",
       "    </tr>\n",
       "    <tr>\n",
       "      <th>5</th>\n",
       "      <td>59</td>\n",
       "      <td>163</td>\n",
       "      <td>wanita</td>\n",
       "    </tr>\n",
       "    <tr>\n",
       "      <th>6</th>\n",
       "      <td>67</td>\n",
       "      <td>180</td>\n",
       "      <td>wanita</td>\n",
       "    </tr>\n",
       "    <tr>\n",
       "      <th>7</th>\n",
       "      <td>54</td>\n",
       "      <td>158</td>\n",
       "      <td>wanita</td>\n",
       "    </tr>\n",
       "    <tr>\n",
       "      <th>8</th>\n",
       "      <td>67</td>\n",
       "      <td>178</td>\n",
       "      <td>wanita</td>\n",
       "    </tr>\n",
       "  </tbody>\n",
       "</table>\n",
       "</div>"
      ],
      "text/plain": [
       "   berat  tinggi      jk\n",
       "0     64     158    pria\n",
       "1     86     170    pria\n",
       "2     84     183    pria\n",
       "3     80     191    pria\n",
       "4     49     155  wanita\n",
       "5     59     163  wanita\n",
       "6     67     180  wanita\n",
       "7     54     158  wanita\n",
       "8     67     178  wanita"
      ]
     },
     "execution_count": 1,
     "metadata": {},
     "output_type": "execute_result"
    }
   ],
   "source": [
    "import pandas as pd\n",
    "\n",
    "sensus = {\n",
    "    'berat' :[64, 86, 84, 80, 49, 59, 67, 54, 67],\n",
    "    'tinggi':[158, 170, 183, 191, 155, 163, 180, 158, 178],\n",
    "    'jk'    :['pria','pria','pria','pria','wanita','wanita',\n",
    "              'wanita','wanita','wanita']\n",
    "         }\n",
    "\n",
    "sensus_df = pd.DataFrame(sensus)\n",
    "sensus_df"
   ]
  },
  {
   "cell_type": "markdown",
   "id": "76842854",
   "metadata": {},
   "source": [
    "# VISUALISASI DATA"
   ]
  },
  {
   "cell_type": "code",
   "execution_count": 2,
   "id": "65604e68",
   "metadata": {
    "scrolled": true
   },
   "outputs": [
    {
     "name": "stdout",
     "output_type": "stream",
     "text": [
      "d = pria\n",
      "d = wanita\n"
     ]
    },
    {
     "data": {
      "image/png": "[encoded data removed]",
      "text/plain": [
       "<Figure size 432x288 with 1 Axes>"
      ]
     },
     "metadata": {
      "needs_background": "light"
     },
     "output_type": "display_data"
    }
   ],
   "source": [
    "import matplotlib.pyplot as plt\n",
    "\n",
    "for jk, d in sensus_df.groupby('jk') :\n",
    "#     print(f'd = {d}')\n",
    "    print(f'd = {jk}')\n",
    "    plt.scatter(d['tinggi'], d['berat'], label = jk)\n",
    "\n",
    "plt.grid(True)\n",
    "plt.legend(loc = 'upper left')\n",
    "plt.title('Sebaran Data Jenis Kelamin terhadap Nilai Tinggi dan Berat Badan')\n",
    "plt.xlabel('Tinggi (cm)')\n",
    "plt.ylabel('Berat Badan (Kg)')\n",
    "plt.show()"
   ]
  },
  {
   "cell_type": "markdown",
   "id": "ecafaed5",
   "metadata": {},
   "source": [
    "# PREPROCESSING DATASET"
   ]
  },
  {
   "cell_type": "code",
   "execution_count": 3,
   "id": "542f762b",
   "metadata": {},
   "outputs": [
    {
     "name": "stdout",
     "output_type": "stream",
     "text": [
      "X_train = [[158  64]\n",
      " [170  86]\n",
      " [183  84]\n",
      " [191  80]\n",
      " [155  49]\n",
      " [163  59]\n",
      " [180  67]\n",
      " [158  54]\n",
      " [178  67]]\n",
      "y_train = ['pria' 'pria' 'pria' 'pria' 'wanita' 'wanita' 'wanita' 'wanita' 'wanita']\n"
     ]
    }
   ],
   "source": [
    "import numpy as np\n",
    "\n",
    "X_train = np.array(sensus_df[['tinggi', 'berat']])\n",
    "y_train = np.array(sensus_df['jk'])\n",
    "\n",
    "print(f'X_train = {X_train}')\n",
    "print(f'y_train = {y_train}')"
   ]
  },
  {
   "cell_type": "code",
   "execution_count": 4,
   "id": "412f5739",
   "metadata": {
    "scrolled": false
   },
   "outputs": [
    {
     "name": "stdout",
     "output_type": "stream",
     "text": [
      "y_train:\n",
      "[[0]\n",
      " [0]\n",
      " [0]\n",
      " [0]\n",
      " [1]\n",
      " [1]\n",
      " [1]\n",
      " [1]\n",
      " [1]]\n"
     ]
    }
   ],
   "source": [
    "from sklearn.preprocessing import LabelBinarizer\n",
    "\n",
    "lb = LabelBinarizer()\n",
    "y_train = lb.fit_transform(y_train)\n",
    "print(f'y_train:\\n{y_train}')"
   ]
  },
  {
   "cell_type": "code",
   "execution_count": 5,
   "id": "3585a906",
   "metadata": {},
   "outputs": [
    {
     "name": "stdout",
     "output_type": "stream",
     "text": [
      "y_train = [0 0 0 0 1 1 1 1 1]\n"
     ]
    }
   ],
   "source": [
    "y_train = y_train.flatten()\n",
    "print(f'y_train = {y_train}')"
   ]
  },
  {
   "cell_type": "markdown",
   "id": "03baa2bd",
   "metadata": {},
   "source": [
    "# TRAINING KNN CLASSIFICATON MODEL"
   ]
  },
  {
   "cell_type": "code",
   "execution_count": 6,
   "id": "2243d4c9",
   "metadata": {},
   "outputs": [
    {
     "data": {
      "text/plain": [
       "KNeighborsClassifier(n_neighbors=3)"
      ]
     },
     "execution_count": 6,
     "metadata": {},
     "output_type": "execute_result"
    }
   ],
   "source": [
    "from sklearn.neighbors import KNeighborsClassifier\n",
    "\n",
    "model = KNeighborsClassifier(n_neighbors = 3)\n",
    "model.fit(X_train, y_train)"
   ]
  },
  {
   "cell_type": "markdown",
   "id": "70861f1d",
   "metadata": {},
   "source": [
    "# PREDIKSI JENIS KELAMIN"
   ]
  },
  {
   "cell_type": "code",
   "execution_count": 17,
   "id": "c7371d6d",
   "metadata": {},
   "outputs": [
    {
     "data": {
      "text/plain": [
       "array([[155,  70]])"
      ]
     },
     "execution_count": 17,
     "metadata": {},
     "output_type": "execute_result"
    }
   ],
   "source": [
    "tinggi_badan = 155\n",
    "berat_badan = 70\n",
    "X_new = np.array([tinggi_badan, berat_badan]).reshape(1, -1)\n",
    "X_new"
   ]
  },
  {
   "cell_type": "code",
   "execution_count": 18,
   "id": "22f7b728",
   "metadata": {},
   "outputs": [
    {
     "data": {
      "text/plain": [
       "array([1])"
      ]
     },
     "execution_count": 18,
     "metadata": {},
     "output_type": "execute_result"
    }
   ],
   "source": [
    "y_new = model.predict(X_new)\n",
    "y_new"
   ]
  },
  {
   "cell_type": "code",
   "execution_count": 19,
   "id": "a394f9a5",
   "metadata": {},
   "outputs": [
    {
     "data": {
      "text/plain": [
       "array(['wanita'], dtype='<U6')"
      ]
     },
     "execution_count": 19,
     "metadata": {},
     "output_type": "execute_result"
    }
   ],
   "source": [
    "lb.inverse_transform(y_new)"
   ]
  },
  {
   "cell_type": "markdown",
   "id": "078e6cd5",
   "metadata": {},
   "source": [
    "# VISUALISASI NEAREST NEIGBORS"
   ]
  },
  {
   "cell_type": "code",
   "execution_count": 21,
   "id": "76f7dc1e",
   "metadata": {},
   "outputs": [
    {
     "name": "stdout",
     "output_type": "stream",
     "text": [
      "d = pria\n",
      "d = wanita\n"
     ]
    },
    {
     "data": {
      "image/png": "[encoded data removed]",
      "text/plain": [
       "<Figure size 432x288 with 1 Axes>"
      ]
     },
     "metadata": {
      "needs_background": "light"
     },
     "output_type": "display_data"
    }
   ],
   "source": [
    "for jk, d in sensus_df.groupby('jk') :\n",
    "#     print(f'd = {d}')\n",
    "    print(f'd = {jk}')\n",
    "    plt.scatter(d['tinggi'], d['berat'], label = jk)\n",
    "\n",
    "plt.scatter(tinggi_badan, berat_badan, marker = 's', \n",
    "            color = 'red', label = 'misterius')\n",
    "\n",
    "plt.grid(True)\n",
    "plt.legend(loc = 'upper left')\n",
    "plt.title('Sebaran Data Jenis Kelamin terhadap Nilai Tinggi dan Berat Badan')\n",
    "plt.xlabel('Tinggi (cm)')\n",
    "plt.ylabel('Berat Badan (Kg)')\n",
    "plt.show()"
   ]
  },
  {
   "cell_type": "markdown",
   "id": "36948edb",
   "metadata": {},
   "source": [
    "# KALKULASI DISTANCE (EUCLIDEAN DISTANCE"
   ]
  },
  {
   "cell_type": "markdown",
   "id": "ec10f4eb",
   "metadata": {},
   "source": [
    "<ol>Dalam menentukan response variable dengan menggunakan classifier KNN yaitu menggunakan jumlah jarak tetangga terdekatnya yang di definisikan dengan K (n_neighbors = K)</ol>\n",
    "<ol>Untuk mengetahui jarak tersebut dapat dilakukan perhitungan jarak menggunakan Euclidean Distance yang mengukur jarak resultan dari kedua titik yang ingin diukur jaraknya</ol>"
   ]
  },
  {
   "attachments": {
    "messageImage_1673647439349.jpg": {
     "image/jpeg": "[encoded data removed]"
    }
   },
   "cell_type": "markdown",
   "id": "f0ed690e",
   "metadata": {},
   "source": [
    "![messageImage_1673647439349.jpg](attachment:messageImage_1673647439349.jpg)"
   ]
  },
  {
   "cell_type": "code",
   "execution_count": 22,
   "id": "d8a18d4d",
   "metadata": {},
   "outputs": [
    {
     "data": {
      "text/plain": [
       "array([155,  70])"
      ]
     },
     "execution_count": 22,
     "metadata": {},
     "output_type": "execute_result"
    }
   ],
   "source": [
    "misterius = np.array([tinggi_badan, berat_badan])\n",
    "misterius"
   ]
  },
  {
   "cell_type": "code",
   "execution_count": 23,
   "id": "edcf09e6",
   "metadata": {},
   "outputs": [
    {
     "data": {
      "text/plain": [
       "array([[158,  64],\n",
       "       [170,  86],\n",
       "       [183,  84],\n",
       "       [191,  80],\n",
       "       [155,  49],\n",
       "       [163,  59],\n",
       "       [180,  67],\n",
       "       [158,  54],\n",
       "       [178,  67]], dtype=int64)"
      ]
     },
     "execution_count": 23,
     "metadata": {},
     "output_type": "execute_result"
    }
   ],
   "source": [
    "X_train"
   ]
  },
  {
   "cell_type": "code",
   "execution_count": 35,
   "id": "41e9bdbc",
   "metadata": {},
   "outputs": [
    {
     "data": {
      "text/plain": [
       "[6.708203932499369,\n",
       " 21.93171219946131,\n",
       " 31.304951684997057,\n",
       " 37.36308338453881,\n",
       " 21.0,\n",
       " 13.601470508735444,\n",
       " 25.179356624028344,\n",
       " 16.278820596099706,\n",
       " 23.194827009486403]"
      ]
     },
     "execution_count": 35,
     "metadata": {},
     "output_type": "execute_result"
    }
   ],
   "source": [
    "from scipy.spatial.distance import euclidean\n",
    "\n",
    "data_jarak = [euclidean(misterius, d) for d in X_train]\n",
    "data_jarak"
   ]
  },
  {
   "cell_type": "code",
   "execution_count": 36,
   "id": "804d3e03",
   "metadata": {},
   "outputs": [
    {
     "data": {
      "text/html": [
       "<div>\n",
       "<style scoped>\n",
       "    .dataframe tbody tr th:only-of-type {\n",
       "        vertical-align: middle;\n",
       "    }\n",
       "\n",
       "    .dataframe tbody tr th {\n",
       "        vertical-align: top;\n",
       "    }\n",
       "\n",
       "    .dataframe thead th {\n",
       "        text-align: right;\n",
       "    }\n",
       "</style>\n",
       "<table border=\"1\" class=\"dataframe\">\n",
       "  <thead>\n",
       "    <tr style=\"text-align: right;\">\n",
       "      <th></th>\n",
       "      <th>berat</th>\n",
       "      <th>tinggi</th>\n",
       "      <th>jk</th>\n",
       "      <th>jarak</th>\n",
       "    </tr>\n",
       "  </thead>\n",
       "  <tbody>\n",
       "    <tr>\n",
       "      <th>0</th>\n",
       "      <td>64</td>\n",
       "      <td>158</td>\n",
       "      <td>pria</td>\n",
       "      <td>6.708204</td>\n",
       "    </tr>\n",
       "    <tr>\n",
       "      <th>5</th>\n",
       "      <td>59</td>\n",
       "      <td>163</td>\n",
       "      <td>wanita</td>\n",
       "      <td>13.601471</td>\n",
       "    </tr>\n",
       "    <tr>\n",
       "      <th>7</th>\n",
       "      <td>54</td>\n",
       "      <td>158</td>\n",
       "      <td>wanita</td>\n",
       "      <td>16.278821</td>\n",
       "    </tr>\n",
       "    <tr>\n",
       "      <th>4</th>\n",
       "      <td>49</td>\n",
       "      <td>155</td>\n",
       "      <td>wanita</td>\n",
       "      <td>21.000000</td>\n",
       "    </tr>\n",
       "    <tr>\n",
       "      <th>1</th>\n",
       "      <td>86</td>\n",
       "      <td>170</td>\n",
       "      <td>pria</td>\n",
       "      <td>21.931712</td>\n",
       "    </tr>\n",
       "    <tr>\n",
       "      <th>8</th>\n",
       "      <td>67</td>\n",
       "      <td>178</td>\n",
       "      <td>wanita</td>\n",
       "      <td>23.194827</td>\n",
       "    </tr>\n",
       "    <tr>\n",
       "      <th>6</th>\n",
       "      <td>67</td>\n",
       "      <td>180</td>\n",
       "      <td>wanita</td>\n",
       "      <td>25.179357</td>\n",
       "    </tr>\n",
       "    <tr>\n",
       "      <th>2</th>\n",
       "      <td>84</td>\n",
       "      <td>183</td>\n",
       "      <td>pria</td>\n",
       "      <td>31.304952</td>\n",
       "    </tr>\n",
       "    <tr>\n",
       "      <th>3</th>\n",
       "      <td>80</td>\n",
       "      <td>191</td>\n",
       "      <td>pria</td>\n",
       "      <td>37.363083</td>\n",
       "    </tr>\n",
       "  </tbody>\n",
       "</table>\n",
       "</div>"
      ],
      "text/plain": [
       "   berat  tinggi      jk      jarak\n",
       "0     64     158    pria   6.708204\n",
       "5     59     163  wanita  13.601471\n",
       "7     54     158  wanita  16.278821\n",
       "4     49     155  wanita  21.000000\n",
       "1     86     170    pria  21.931712\n",
       "8     67     178  wanita  23.194827\n",
       "6     67     180  wanita  25.179357\n",
       "2     84     183    pria  31.304952\n",
       "3     80     191    pria  37.363083"
      ]
     },
     "execution_count": 36,
     "metadata": {},
     "output_type": "execute_result"
    }
   ],
   "source": [
    "sensus_df['jarak'] = data_jarak\n",
    "sensus_df.sort_values(['jarak'])"
   ]
  },
  {
   "cell_type": "markdown",
   "id": "8deb961d",
   "metadata": {},
   "source": [
    "# EVALUASI KNN CLASSIFICATION MODEL"
   ]
  },
  {
   "cell_type": "markdown",
   "id": "16504c4d",
   "metadata": {},
   "source": [
    "## TESTING SET"
   ]
  },
  {
   "cell_type": "code",
   "execution_count": 38,
   "id": "69992486",
   "metadata": {},
   "outputs": [
    {
     "name": "stdout",
     "output_type": "stream",
     "text": [
      "X_test:[[168, 65], [180, 96], [160, 52], [169, 67]]\n",
      "y_test:[0 0 1 1]\n"
     ]
    }
   ],
   "source": [
    "X_test = [[168, 65],[180, 96],[160, 52],[169, 67]]\n",
    "y_test = lb.transform(np.array(['pria', 'pria','wanita', 'wanita'])).flatten()\n",
    "\n",
    "print(f'X_test:{X_test}')\n",
    "print(f'y_test:{y_test}')"
   ]
  },
  {
   "cell_type": "markdown",
   "id": "ec60f71a",
   "metadata": {},
   "source": [
    "## PREDIKSI"
   ]
  },
  {
   "cell_type": "code",
   "execution_count": 42,
   "id": "073c1682",
   "metadata": {},
   "outputs": [
    {
     "data": {
      "text/plain": [
       "array([1, 0, 1, 1])"
      ]
     },
     "execution_count": 42,
     "metadata": {},
     "output_type": "execute_result"
    }
   ],
   "source": [
    "y_pred = model.predict(X_test)\n",
    "y_pred"
   ]
  },
  {
   "cell_type": "markdown",
   "id": "5c80d0c3",
   "metadata": {},
   "source": [
    "## METRIC EVALUASI 1 : ACCURACY"
   ]
  },
  {
   "attachments": {
    "messageImage_1673648824458.jpg": {
     "image/jpeg": "[encoded data removed]"
    }
   },
   "cell_type": "markdown",
   "id": "e5e5c193",
   "metadata": {},
   "source": [
    "![messageImage_1673648824458.jpg](attachment:messageImage_1673648824458.jpg)"
   ]
  },
  {
   "cell_type": "code",
   "execution_count": 43,
   "id": "e49335e8",
   "metadata": {},
   "outputs": [
    {
     "name": "stdout",
     "output_type": "stream",
     "text": [
      "Accuracy = 0.75\n"
     ]
    }
   ],
   "source": [
    "from sklearn.metrics import accuracy_score\n",
    "\n",
    "acc = accuracy_score(y_test, y_pred)\n",
    "\n",
    "print(f'Accuracy = {acc}')"
   ]
  },
  {
   "cell_type": "markdown",
   "id": "5d7b4f03",
   "metadata": {},
   "source": [
    "## METRIC EVALUASI 2 : PRECISSION"
   ]
  },
  {
   "attachments": {
    "messageImage_1673649120870.jpg": {
     "image/jpeg": "[encoded data removed]"
    }
   },
   "cell_type": "markdown",
   "id": "c93d5d9b",
   "metadata": {},
   "source": [
    "![messageImage_1673649120870.jpg](attachment:messageImage_1673649120870.jpg)"
   ]
  },
  {
   "cell_type": "code",
   "execution_count": 46,
   "id": "573b51bd",
   "metadata": {},
   "outputs": [
    {
     "name": "stdout",
     "output_type": "stream",
     "text": [
      "Precission = 0.6666666666666666\n"
     ]
    }
   ],
   "source": [
    "from sklearn.metrics import precision_score\n",
    "\n",
    "prec = precision_score(y_test, y_pred)\n",
    "\n",
    "print(f'Precission = {prec}')"
   ]
  },
  {
   "cell_type": "markdown",
   "id": "dee7aefe",
   "metadata": {},
   "source": [
    "## METRIC EVALUASI 3 : RECALL"
   ]
  },
  {
   "attachments": {
    "messageImage_1673657459111.jpg": {
     "image/jpeg": "[encoded data removed]"
    }
   },
   "cell_type": "markdown",
   "id": "9d52a857",
   "metadata": {},
   "source": [
    "![messageImage_1673657459111.jpg](attachment:messageImage_1673657459111.jpg)"
   ]
  },
  {
   "cell_type": "code",
   "execution_count": 47,
   "id": "75ee9c92",
   "metadata": {},
   "outputs": [
    {
     "name": "stdout",
     "output_type": "stream",
     "text": [
      "Recall = 1.0\n"
     ]
    }
   ],
   "source": [
    "from sklearn.metrics import recall_score\n",
    "\n",
    "rec = recall_score(y_test, y_pred)\n",
    "\n",
    "print(f'Recall = {rec}')"
   ]
  },
  {
   "cell_type": "markdown",
   "id": "41af0ffb",
   "metadata": {},
   "source": [
    "## METRIC EVALUASI 4 : F1 SCORE"
   ]
  },
  {
   "attachments": {
    "messageImage_1673657711978.jpg": {
     "image/jpeg": "[encoded data removed]"
    }
   },
   "cell_type": "markdown",
   "id": "031aef33",
   "metadata": {},
   "source": [
    "![messageImage_1673657711978.jpg](attachment:messageImage_1673657711978.jpg)"
   ]
  },
  {
   "cell_type": "code",
   "execution_count": 48,
   "id": "0738fc2d",
   "metadata": {},
   "outputs": [
    {
     "name": "stdout",
     "output_type": "stream",
     "text": [
      "F1 = 0.8\n"
     ]
    }
   ],
   "source": [
    "from sklearn.metrics import f1_score\n",
    "\n",
    "f1 = f1_score(y_test, y_pred)\n",
    "\n",
    "print(f'F1 = {f1}')"
   ]
  },
  {
   "cell_type": "markdown",
   "id": "f2f26ea9",
   "metadata": {},
   "source": [
    "# CLASSIFICATION REPORT"
   ]
  },
  {
   "cell_type": "code",
   "execution_count": 50,
   "id": "9fbfd5bc",
   "metadata": {
    "scrolled": true
   },
   "outputs": [
    {
     "name": "stdout",
     "output_type": "stream",
     "text": [
      "Classification Report = \n",
      "              precision    recall  f1-score   support\n",
      "\n",
      "           0       1.00      0.50      0.67         2\n",
      "           1       0.67      1.00      0.80         2\n",
      "\n",
      "    accuracy                           0.75         4\n",
      "   macro avg       0.83      0.75      0.73         4\n",
      "weighted avg       0.83      0.75      0.73         4\n",
      "\n",
      "\n"
     ]
    }
   ],
   "source": [
    "from sklearn.metrics import classification_report\n",
    "\n",
    "rep = classification_report(y_test, y_pred)\n",
    "\n",
    "print(f'Classification Report = \\n{rep}\\n')"
   ]
  },
  {
   "cell_type": "markdown",
   "id": "b07bfbe7",
   "metadata": {},
   "source": [
    "## METRIC EVALUASI 5 : MATTHEW CORRELATION COEFFICIENT (MCC)"
   ]
  },
  {
   "cell_type": "markdown",
   "id": "cb2c8075",
   "metadata": {},
   "source": [
    "Alternatif dari F1 untuk mengukur performa klasifikasi biner dengan rentang nilai -1 sampai 1."
   ]
  },
  {
   "attachments": {
    "messageImage_1673658465519.jpg": {
     "image/jpeg": "[encoded data removed]"
    }
   },
   "cell_type": "markdown",
   "id": "0a997027",
   "metadata": {},
   "source": [
    "![messageImage_1673658465519.jpg](attachment:messageImage_1673658465519.jpg)"
   ]
  },
  {
   "cell_type": "code",
   "execution_count": 52,
   "id": "b8920da5",
   "metadata": {},
   "outputs": [
    {
     "name": "stdout",
     "output_type": "stream",
     "text": [
      "MCC = 0.5773502691896258\n"
     ]
    }
   ],
   "source": [
    "from sklearn.metrics import matthews_corrcoef\n",
    "\n",
    "mcc = matthews_corrcoef(y_test, y_pred)\n",
    "\n",
    "print(f'MCC = {mcc}')"
   ]
  }
 ],
 "metadata": {
  "kernelspec": {
   "display_name": "Python 3 (ipykernel)",
   "language": "python",
   "name": "python3"
  },
  "language_info": {
   "codemirror_mode": {
    "name": "ipython",
    "version": 3
   },
   "file_extension": ".py",
   "mimetype": "text/x-python",
   "name": "python",
   "nbconvert_exporter": "python",
   "pygments_lexer": "ipython3",
   "version": "3.8.0"
  }
 },
 "nbformat": 4,
 "nbformat_minor": 5
}
