{
 "cells": [
  {
   "cell_type": "markdown",
   "id": "6e1a8373",
   "metadata": {},
   "source": [
    "# SAMPLE DATA"
   ]
  },
  {
   "cell_type": "markdown",
   "id": "b578f51b",
   "metadata": {},
   "source": [
    "Tahapan ini merupakan tahapan membuat data sampel secara manual yang digunakan untuk menguji teknik data preprocessing "
   ]
  },
  {
   "cell_type": "code",
   "execution_count": 5,
   "id": "931651a7",
   "metadata": {},
   "outputs": [
    {
     "data": {
      "text/plain": [
       "array([[ 2.1, -1.9,  5.5],\n",
       "       [-1.5,  2.4,  3.5],\n",
       "       [ 5.9,  2.3, -5.8],\n",
       "       [ 0.5, -7.9,  5.6]])"
      ]
     },
     "execution_count": 5,
     "metadata": {},
     "output_type": "execute_result"
    }
   ],
   "source": [
    "import numpy as np\n",
    "from sklearn import preprocessing\n",
    "\n",
    "sample_data = np.array([[2.1, -1.9, 5.5],\n",
    "                        [-1.5, 2.4, 3.5],\n",
    "                        [5.9, 2.3, -5.8],\n",
    "                        [0.5, -7.9, 5.6]\n",
    "                       ])\n",
    "\n",
    "sample_data"
   ]
  },
  {
   "cell_type": "code",
   "execution_count": 6,
   "id": "3376cfff",
   "metadata": {},
   "outputs": [
    {
     "data": {
      "text/plain": [
       "(4, 3)"
      ]
     },
     "execution_count": 6,
     "metadata": {},
     "output_type": "execute_result"
    }
   ],
   "source": [
    "sample_data.shape"
   ]
  },
  {
   "cell_type": "markdown",
   "id": "cb81d000",
   "metadata": {},
   "source": [
    "# TEKNIK DATA PREPROCESSING 1 : BINARISATION"
   ]
  },
  {
   "cell_type": "markdown",
   "id": "7e90867c",
   "metadata": {},
   "source": [
    "Binarisation digunakan untuk merubah data numerik menjadi bilangan biner (1 atau 0) yang ditentukan melalui nilai parameter ambang batas yang ditentukan, contoh dibawah menggunakan nilai ambang batas 0.5"
   ]
  },
  {
   "cell_type": "code",
   "execution_count": 9,
   "id": "0df0b0e3",
   "metadata": {},
   "outputs": [
    {
     "data": {
      "text/plain": [
       "array([[1., 0., 1.],\n",
       "       [0., 1., 1.],\n",
       "       [1., 1., 0.],\n",
       "       [0., 0., 1.]])"
      ]
     },
     "execution_count": 9,
     "metadata": {},
     "output_type": "execute_result"
    }
   ],
   "source": [
    "processor = preprocessing.Binarizer(threshold = 0.5)\n",
    "binarised_data = processor.transform(sample_data)\n",
    "binarised_data"
   ]
  },
  {
   "cell_type": "markdown",
   "id": "49424fe0",
   "metadata": {},
   "source": [
    "# TEKNIK DATA PREPROCESSING 2 : SCALING"
   ]
  },
  {
   "cell_type": "code",
   "execution_count": 11,
   "id": "dead8564",
   "metadata": {},
   "outputs": [
    {
     "data": {
      "text/plain": [
       "array([[0.48648649, 0.58252427, 0.99122807],\n",
       "       [0.        , 1.        , 0.81578947],\n",
       "       [1.        , 0.99029126, 0.        ],\n",
       "       [0.27027027, 0.        , 1.        ]])"
      ]
     },
     "execution_count": 11,
     "metadata": {},
     "output_type": "execute_result"
    }
   ],
   "source": [
    "preprocessor = preprocessing.MinMaxScaler(feature_range = (0, 1))\n",
    "preprocessor.fit(sample_data)\n",
    "scaled_data = preprocessor.transform(sample_data)\n",
    "scaled_data"
   ]
  },
  {
   "cell_type": "markdown",
   "id": "189002df",
   "metadata": {},
   "source": [
    "Apabila fit() dan transform() dikenakan pada satu objek maka dapat disederhanakan penulisannya sebagai berikut,"
   ]
  },
  {
   "cell_type": "code",
   "execution_count": 12,
   "id": "74e3c0ae",
   "metadata": {},
   "outputs": [
    {
     "data": {
      "text/plain": [
       "array([[0.48648649, 0.58252427, 0.99122807],\n",
       "       [0.        , 1.        , 0.81578947],\n",
       "       [1.        , 0.99029126, 0.        ],\n",
       "       [0.27027027, 0.        , 1.        ]])"
      ]
     },
     "execution_count": 12,
     "metadata": {},
     "output_type": "execute_result"
    }
   ],
   "source": [
    "scaled_data = preprocessor.fit_transform(sample_data)\n",
    "scaled_data"
   ]
  },
  {
   "cell_type": "markdown",
   "id": "bf0c47e9",
   "metadata": {},
   "source": [
    "# TEKNIK DATA PREPROCESSING 3 : NORMALIZATION"
   ]
  },
  {
   "cell_type": "markdown",
   "id": "6bcd6167",
   "metadata": {},
   "source": [
    "## L1 Nomalization : Least Absolute Deviation"
   ]
  },
  {
   "cell_type": "code",
   "execution_count": 13,
   "id": "b480e3d7",
   "metadata": {},
   "outputs": [
    {
     "data": {
      "text/plain": [
       "array([[ 0.22105263, -0.2       ,  0.57894737],\n",
       "       [-0.2027027 ,  0.32432432,  0.47297297],\n",
       "       [ 0.42142857,  0.16428571, -0.41428571],\n",
       "       [ 0.03571429, -0.56428571,  0.4       ]])"
      ]
     },
     "execution_count": 13,
     "metadata": {},
     "output_type": "execute_result"
    }
   ],
   "source": [
    "l1_normalized_data = preprocessing.normalize(sample_data, 'l1')\n",
    "l1_normalized_data"
   ]
  },
  {
   "cell_type": "markdown",
   "id": "15347a0a",
   "metadata": {},
   "source": [
    "## L1 Nomalization : Least Square"
   ]
  },
  {
   "cell_type": "code",
   "execution_count": 14,
   "id": "32e2acda",
   "metadata": {},
   "outputs": [
    {
     "data": {
      "text/plain": [
       "array([[ 0.33946114, -0.30713151,  0.88906489],\n",
       "       [-0.33325106,  0.53320169,  0.7775858 ],\n",
       "       [ 0.68706914,  0.26784051, -0.6754239 ],\n",
       "       [ 0.05156558, -0.81473612,  0.57753446]])"
      ]
     },
     "execution_count": 14,
     "metadata": {},
     "output_type": "execute_result"
    }
   ],
   "source": [
    "l2_normalized_data = preprocessing.normalize(sample_data, 'l2')\n",
    "l2_normalized_data"
   ]
  }
 ],
 "metadata": {
  "kernelspec": {
   "display_name": "Python 3 (ipykernel)",
   "language": "python",
   "name": "python3"
  },
  "language_info": {
   "codemirror_mode": {
    "name": "ipython",
    "version": 3
   },
   "file_extension": ".py",
   "mimetype": "text/x-python",
   "name": "python",
   "nbconvert_exporter": "python",
   "pygments_lexer": "ipython3",
   "version": "3.8.0"
  }
 },
 "nbformat": 4,
 "nbformat_minor": 5
}
