{
 "cells": [
  {
   "cell_type": "markdown",
   "id": "c30a4b3c",
   "metadata": {},
   "source": [
    "# K-NEAREST NEIGHBOURS (KNN)"
   ]
  },
  {
   "cell_type": "markdown",
   "id": "b03dacd8",
   "metadata": {},
   "source": [
    "<ul>1. KNN melakukan prediksi berdasarkan kedekatan karakteristik dengan tetangga terdekat</ul>\n",
    "<ul>2. Prediksi dapat dilakukan pada klasifikasi maupun regresi</ul>"
   ]
  },
  {
   "cell_type": "code",
   "execution_count": 1,
   "id": "3eabe41b",
   "metadata": {},
   "outputs": [
    {
     "data": {
      "text/html": [
       "<div>\n",
       "<style scoped>\n",
       "    .dataframe tbody tr th:only-of-type {\n",
       "        vertical-align: middle;\n",
       "    }\n",
       "\n",
       "    .dataframe tbody tr th {\n",
       "        vertical-align: top;\n",
       "    }\n",
       "\n",
       "    .dataframe thead th {\n",
       "        text-align: right;\n",
       "    }\n",
       "</style>\n",
       "<table border=\"1\" class=\"dataframe\">\n",
       "  <thead>\n",
       "    <tr style=\"text-align: right;\">\n",
       "      <th></th>\n",
       "      <th>jk</th>\n",
       "      <th>tinggi</th>\n",
       "      <th>berat</th>\n",
       "    </tr>\n",
       "  </thead>\n",
       "  <tbody>\n",
       "    <tr>\n",
       "      <th>0</th>\n",
       "      <td>pria</td>\n",
       "      <td>158</td>\n",
       "      <td>64</td>\n",
       "    </tr>\n",
       "    <tr>\n",
       "      <th>1</th>\n",
       "      <td>pria</td>\n",
       "      <td>170</td>\n",
       "      <td>86</td>\n",
       "    </tr>\n",
       "    <tr>\n",
       "      <th>2</th>\n",
       "      <td>pria</td>\n",
       "      <td>183</td>\n",
       "      <td>84</td>\n",
       "    </tr>\n",
       "    <tr>\n",
       "      <th>3</th>\n",
       "      <td>pria</td>\n",
       "      <td>191</td>\n",
       "      <td>80</td>\n",
       "    </tr>\n",
       "    <tr>\n",
       "      <th>4</th>\n",
       "      <td>wanita</td>\n",
       "      <td>155</td>\n",
       "      <td>49</td>\n",
       "    </tr>\n",
       "    <tr>\n",
       "      <th>5</th>\n",
       "      <td>wanita</td>\n",
       "      <td>163</td>\n",
       "      <td>59</td>\n",
       "    </tr>\n",
       "    <tr>\n",
       "      <th>6</th>\n",
       "      <td>wanita</td>\n",
       "      <td>180</td>\n",
       "      <td>67</td>\n",
       "    </tr>\n",
       "    <tr>\n",
       "      <th>7</th>\n",
       "      <td>wanita</td>\n",
       "      <td>158</td>\n",
       "      <td>54</td>\n",
       "    </tr>\n",
       "    <tr>\n",
       "      <th>8</th>\n",
       "      <td>wanita</td>\n",
       "      <td>170</td>\n",
       "      <td>67</td>\n",
       "    </tr>\n",
       "  </tbody>\n",
       "</table>\n",
       "</div>"
      ],
      "text/plain": [
       "       jk  tinggi  berat\n",
       "0    pria     158     64\n",
       "1    pria     170     86\n",
       "2    pria     183     84\n",
       "3    pria     191     80\n",
       "4  wanita     155     49\n",
       "5  wanita     163     59\n",
       "6  wanita     180     67\n",
       "7  wanita     158     54\n",
       "8  wanita     170     67"
      ]
     },
     "execution_count": 1,
     "metadata": {},
     "output_type": "execute_result"
    }
   ],
   "source": [
    "import pandas as pd\n",
    "\n",
    "sensus = {\n",
    "    'jk'    :['pria','pria','pria','pria','wanita','wanita',\n",
    "              'wanita','wanita','wanita'],\n",
    "    'tinggi':[158, 170, 183, 191, 155, 163, 180, 158, 170],\n",
    "    'berat' :[64, 86, 84, 80, 49, 59, 67, 54, 67]\n",
    "         }\n",
    "\n",
    "sensus_df = pd.DataFrame(sensus)\n",
    "sensus_df"
   ]
  },
  {
   "cell_type": "markdown",
   "id": "41557565",
   "metadata": {},
   "source": [
    "# FEATURES & TARGET"
   ]
  },
  {
   "cell_type": "code",
   "execution_count": 2,
   "id": "933a25fc",
   "metadata": {},
   "outputs": [
    {
     "name": "stdout",
     "output_type": "stream",
     "text": [
      "X_train = \n",
      "[[158 'pria']\n",
      " [170 'pria']\n",
      " [183 'pria']\n",
      " [191 'pria']\n",
      " [155 'wanita']\n",
      " [163 'wanita']\n",
      " [180 'wanita']\n",
      " [158 'wanita']\n",
      " [170 'wanita']]\n",
      "y_train = [64 86 84 80 49 59 67 54 67]\n"
     ]
    }
   ],
   "source": [
    "import numpy as np\n",
    "\n",
    "X_train = np.array(sensus_df[['tinggi','jk']])\n",
    "y_train = np.array(sensus_df['berat'])\n",
    "\n",
    "print(f'X_train = \\n{X_train}')\n",
    "print(f'y_train = {y_train}')"
   ]
  },
  {
   "cell_type": "code",
   "execution_count": 3,
   "id": "ca2fe00f",
   "metadata": {},
   "outputs": [
    {
     "name": "stdout",
     "output_type": "stream",
     "text": [
      "X_train_transposed = \n",
      "[[158 170 183 191 155 163 180 158 170]\n",
      " ['pria' 'pria' 'pria' 'pria' 'wanita' 'wanita' 'wanita' 'wanita'\n",
      "  'wanita']]\n"
     ]
    }
   ],
   "source": [
    "X_train_transpose = np.transpose(X_train)\n",
    "\n",
    "print(f'X_train_transposed = \\n{X_train_transpose}')"
   ]
  },
  {
   "cell_type": "code",
   "execution_count": 4,
   "id": "acdcde7f",
   "metadata": {},
   "outputs": [
    {
     "name": "stdout",
     "output_type": "stream",
     "text": [
      "jk_binarised = [[0]\n",
      " [0]\n",
      " [0]\n",
      " [0]\n",
      " [1]\n",
      " [1]\n",
      " [1]\n",
      " [1]\n",
      " [1]]\n"
     ]
    }
   ],
   "source": [
    "from sklearn.preprocessing import LabelBinarizer\n",
    "\n",
    "lb = LabelBinarizer()\n",
    "\n",
    "jk_binarised = lb.fit_transform(X_train_transpose[1])\n",
    "\n",
    "print(f'jk_binarised = {jk_binarised}')"
   ]
  },
  {
   "cell_type": "code",
   "execution_count": 5,
   "id": "f1d6896e",
   "metadata": {},
   "outputs": [
    {
     "data": {
      "text/plain": [
       "array([0, 0, 0, 0, 1, 1, 1, 1, 1])"
      ]
     },
     "execution_count": 5,
     "metadata": {},
     "output_type": "execute_result"
    }
   ],
   "source": [
    "jk_binarised = jk_binarised.flatten()\n",
    "jk_binarised"
   ]
  },
  {
   "cell_type": "code",
   "execution_count": 6,
   "id": "388b2f0a",
   "metadata": {},
   "outputs": [
    {
     "name": "stdout",
     "output_type": "stream",
     "text": [
      "X_train = \n",
      "[[158 0]\n",
      " [170 0]\n",
      " [183 0]\n",
      " [191 0]\n",
      " [155 1]\n",
      " [163 1]\n",
      " [180 1]\n",
      " [158 1]\n",
      " [170 1]]\n"
     ]
    }
   ],
   "source": [
    "X_train_transpose[1] = jk_binarised\n",
    "X_train = X_train_transpose.transpose()\n",
    "\n",
    "print(f'X_train = \\n{X_train}')"
   ]
  },
  {
   "cell_type": "markdown",
   "id": "8d93df45",
   "metadata": {},
   "source": [
    "# TRAINING KNN REGRESSION MODEL"
   ]
  },
  {
   "cell_type": "code",
   "execution_count": 7,
   "id": "06246749",
   "metadata": {},
   "outputs": [
    {
     "data": {
      "text/plain": [
       "KNeighborsRegressor(n_neighbors=3)"
      ]
     },
     "execution_count": 7,
     "metadata": {},
     "output_type": "execute_result"
    }
   ],
   "source": [
    "from sklearn.neighbors import KNeighborsRegressor\n",
    "\n",
    "model = KNeighborsRegressor(n_neighbors = 3)\n",
    "model.fit(X_train, y_train)"
   ]
  },
  {
   "cell_type": "markdown",
   "id": "0ded1c1b",
   "metadata": {},
   "source": [
    "# Prediksi Berat Badan"
   ]
  },
  {
   "cell_type": "code",
   "execution_count": 8,
   "id": "aab71e95",
   "metadata": {},
   "outputs": [
    {
     "data": {
      "text/plain": [
       "array([[155,   1]])"
      ]
     },
     "execution_count": 8,
     "metadata": {},
     "output_type": "execute_result"
    }
   ],
   "source": [
    "X_new = np.array([[155, 1]])\n",
    "X_new"
   ]
  },
  {
   "cell_type": "code",
   "execution_count": 9,
   "id": "683532c6",
   "metadata": {},
   "outputs": [
    {
     "name": "stdout",
     "output_type": "stream",
     "text": [
      "y_new = [55.66666667]\n"
     ]
    }
   ],
   "source": [
    "y_new = model.predict(X_new)\n",
    "\n",
    "print(f'y_new = {y_new}')"
   ]
  },
  {
   "cell_type": "markdown",
   "id": "6cd821a7",
   "metadata": {},
   "source": [
    "# EVALUASI KNN REGRESSION MODEL"
   ]
  },
  {
   "cell_type": "code",
   "execution_count": 10,
   "id": "394ee80d",
   "metadata": {},
   "outputs": [],
   "source": [
    "X_test = np.array([[168, 0], [180, 0], [160, 1], [169, 1]])\n",
    "y_test = np.array([65, 96, 52, 67])"
   ]
  },
  {
   "cell_type": "code",
   "execution_count": 11,
   "id": "ba82356f",
   "metadata": {},
   "outputs": [
    {
     "data": {
      "text/plain": [
       "array([70.66666667, 79.        , 59.        , 70.66666667])"
      ]
     },
     "execution_count": 11,
     "metadata": {},
     "output_type": "execute_result"
    }
   ],
   "source": [
    "y_pred = model.predict(X_test)\n",
    "y_pred"
   ]
  },
  {
   "cell_type": "markdown",
   "id": "45751f37",
   "metadata": {},
   "source": [
    "# EVALUASI R-SQUARE"
   ]
  },
  {
   "cell_type": "code",
   "execution_count": 12,
   "id": "daa262a0",
   "metadata": {},
   "outputs": [
    {
     "name": "stdout",
     "output_type": "stream",
     "text": [
      "R2_Square = 0.6290565226735438\n"
     ]
    }
   ],
   "source": [
    "from sklearn.metrics import r2_score\n",
    "\n",
    "r2_score = r2_score(y_test, y_pred)\n",
    "\n",
    "print(f'R2_Square = {r2_score}')"
   ]
  },
  {
   "cell_type": "markdown",
   "id": "9dcbecd8",
   "metadata": {},
   "source": [
    "# METRIC EVALUASI 6 : MAE (MEAN ABSOLUTE ERROR) ATAU MAD (MEAN ABSOLUTE DEVIATION)"
   ]
  },
  {
   "attachments": {
    "messageImage_1673694330510.jpg": {
     "image/jpeg": "[encoded data removed]"
    }
   },
   "cell_type": "markdown",
   "id": "ae1294ea",
   "metadata": {},
   "source": [
    "![messageImage_1673694330510.jpg](attachment:messageImage_1673694330510.jpg)"
   ]
  },
  {
   "cell_type": "code",
   "execution_count": 13,
   "id": "49dcc083",
   "metadata": {},
   "outputs": [
    {
     "name": "stdout",
     "output_type": "stream",
     "text": [
      "MAE = 8.333333333333336\n"
     ]
    }
   ],
   "source": [
    "from sklearn.metrics import mean_absolute_error\n",
    "\n",
    "mae = mean_absolute_error(y_test, y_pred)\n",
    "\n",
    "print(f'MAE = {mae}')"
   ]
  },
  {
   "cell_type": "markdown",
   "id": "c2b5ef3e",
   "metadata": {},
   "source": [
    "# METRIC EVALUASI 7 : MSE (MEAN SQUARED ERROR) ATAU MSD (MEAN SQUARED DEVIATION)"
   ]
  },
  {
   "attachments": {
    "messageImage_1673694716457.jpg": {
     "image/jpeg": "[encoded data removed]"
    }
   },
   "cell_type": "markdown",
   "id": "6d74fbb4",
   "metadata": {},
   "source": [
    "![messageImage_1673694716457.jpg](attachment:messageImage_1673694716457.jpg)"
   ]
  },
  {
   "cell_type": "code",
   "execution_count": 14,
   "id": "96bf2f3c",
   "metadata": {},
   "outputs": [
    {
     "name": "stdout",
     "output_type": "stream",
     "text": [
      "MSE = 95.8888888888889\n"
     ]
    }
   ],
   "source": [
    "from sklearn.metrics import mean_squared_error\n",
    "\n",
    "mse = mean_squared_error(y_test, y_pred)\n",
    "\n",
    "print(f'MSE = {mse}')"
   ]
  },
  {
   "cell_type": "markdown",
   "id": "4149a18b",
   "metadata": {},
   "source": [
    "# PERMASALAHAN SCALING PADA FEATURES"
   ]
  },
  {
   "cell_type": "code",
   "execution_count": 15,
   "id": "dcfa308d",
   "metadata": {},
   "outputs": [
    {
     "data": {
      "text/plain": [
       "[60.0, 40.01249804748511]"
      ]
     },
     "execution_count": 15,
     "metadata": {},
     "output_type": "execute_result"
    }
   ],
   "source": [
    "from scipy.spatial.distance import euclidean\n",
    "\n",
    "# tinggi dalam milimeter\n",
    "X_train = np.array([[1700, 0], [1600, 1]])\n",
    "X_new = np.array([[1640, 0]])\n",
    "\n",
    "[euclidean(X_new[0], d) for d in X_train]"
   ]
  },
  {
   "cell_type": "code",
   "execution_count": 16,
   "id": "7c746d3c",
   "metadata": {},
   "outputs": [
    {
     "data": {
      "text/plain": [
       "[0.06000000000000005, 1.0007996802557444]"
      ]
     },
     "execution_count": 16,
     "metadata": {},
     "output_type": "execute_result"
    }
   ],
   "source": [
    "# tinggi dalam meter\n",
    "X_train = np.array([[1.7, 0], [1.6, 1]])\n",
    "X_new = np.array([[1.64, 0]])\n",
    "\n",
    "[euclidean(X_new[0], d) for d in X_train]"
   ]
  },
  {
   "cell_type": "markdown",
   "id": "ca507992",
   "metadata": {},
   "source": [
    "# STANDAR SCALER (STANDARD SCORE ATAU Z-SCORE)"
   ]
  },
  {
   "attachments": {
    "messageImage_1673706836919.jpg": {
     "image/jpeg": "[encoded data removed]"
    }
   },
   "cell_type": "markdown",
   "id": "67c4ebd2",
   "metadata": {},
   "source": [
    "![messageImage_1673706836919.jpg](attachment:messageImage_1673706836919.jpg)"
   ]
  },
  {
   "cell_type": "code",
   "execution_count": 17,
   "id": "5ab80d55",
   "metadata": {},
   "outputs": [],
   "source": [
    "from sklearn.preprocessing import StandardScaler\n",
    "\n",
    "ss = StandardScaler()"
   ]
  },
  {
   "cell_type": "code",
   "execution_count": 18,
   "id": "efee10b5",
   "metadata": {},
   "outputs": [
    {
     "name": "stdout",
     "output_type": "stream",
     "text": [
      "X_train_scaled = \n",
      "[[ 1. -1.]\n",
      " [-1.  1.]]\n",
      "X_new_scaled = \n",
      "[[-0.2 -1. ]]\n"
     ]
    },
    {
     "data": {
      "text/plain": [
       "[1.2, 2.154065922853802]"
      ]
     },
     "execution_count": 18,
     "metadata": {},
     "output_type": "execute_result"
    }
   ],
   "source": [
    "# tinggi dalam milimeter\n",
    "X_train = np.array([[1700, 0], [1600, 1]])\n",
    "X_train_scaled = ss.fit_transform(X_train)\n",
    "print(f'X_train_scaled = \\n{X_train_scaled}')\n",
    "\n",
    "X_new = np.array([[1640, 0]])\n",
    "X_new_scaled = ss.transform(X_new)\n",
    "print(f'X_new_scaled = \\n{X_new_scaled}')\n",
    "\n",
    "[euclidean(X_new_scaled[0], d) for d in X_train_scaled]"
   ]
  },
  {
   "cell_type": "code",
   "execution_count": 19,
   "id": "dfcbed93",
   "metadata": {},
   "outputs": [
    {
     "name": "stdout",
     "output_type": "stream",
     "text": [
      "X_train_scaled = \n",
      "[[ 1. -1.]\n",
      " [-1.  1.]]\n",
      "X_new_scaled = \n",
      "[[-0.2 -1. ]]\n"
     ]
    },
    {
     "data": {
      "text/plain": [
       "[1.2000000000000026, 2.1540659228538006]"
      ]
     },
     "execution_count": 19,
     "metadata": {},
     "output_type": "execute_result"
    }
   ],
   "source": [
    "# tinggi dalam meter\n",
    "X_train = np.array([[1.7, 0], [1.6, 1]])\n",
    "X_train_scaled = ss.fit_transform(X_train)\n",
    "print(f'X_train_scaled = \\n{X_train_scaled}')\n",
    "\n",
    "X_new = np.array([[1.64, 0]])\n",
    "X_new_scaled = ss.transform(X_new)\n",
    "print(f'X_new_scaled = \\n{X_new_scaled}')\n",
    "\n",
    "[euclidean(X_new_scaled[0], d) for d in X_train_scaled]"
   ]
  },
  {
   "cell_type": "markdown",
   "id": "220cdbe1",
   "metadata": {},
   "source": [
    "# FEATURES SCALING PADA KNN"
   ]
  },
  {
   "cell_type": "markdown",
   "id": "f03663df",
   "metadata": {},
   "source": [
    "## DATASET"
   ]
  },
  {
   "cell_type": "code",
   "execution_count": 20,
   "id": "1a9e4634",
   "metadata": {},
   "outputs": [],
   "source": [
    "# Training Set\n",
    "X_train = np.array([[158, 0], [170, 0], [183, 0], [191, 0], [155, 1], [163, 1], [180, 1], \n",
    "                    [158, 1], [170, 1]])\n",
    "y_train = np.array([64, 86, 84, 80, 49, 59, 67, 54, 67])\n",
    "\n",
    "# Test Set\n",
    "X_test = np.array([[168, 0], [180, 0], [160, 1], [169, 1]])\n",
    "y_test = np.array([65, 96, 52, 67])"
   ]
  },
  {
   "cell_type": "markdown",
   "id": "2085bc81",
   "metadata": {},
   "source": [
    "## FEATURES SCALING (STANDARD SCALER)"
   ]
  },
  {
   "cell_type": "code",
   "execution_count": 21,
   "id": "991da3bb",
   "metadata": {},
   "outputs": [
    {
     "name": "stdout",
     "output_type": "stream",
     "text": [
      "X_train_scaled = \n",
      "[[-0.9908706  -1.11803399]\n",
      " [ 0.01869567 -1.11803399]\n",
      " [ 1.11239246 -1.11803399]\n",
      " [ 1.78543664 -1.11803399]\n",
      " [-1.24326216  0.89442719]\n",
      " [-0.57021798  0.89442719]\n",
      " [ 0.86000089  0.89442719]\n",
      " [-0.9908706   0.89442719]\n",
      " [ 0.01869567  0.89442719]]\n",
      "X_test_scaled = \n",
      "[[-0.14956537 -1.11803399]\n",
      " [ 0.86000089 -1.11803399]\n",
      " [-0.82260955  0.89442719]\n",
      " [-0.06543485  0.89442719]]\n"
     ]
    }
   ],
   "source": [
    "X_train_scaled = ss.fit_transform(X_train)\n",
    "X_test_scaled = ss.transform(X_test)\n",
    "\n",
    "print(f'X_train_scaled = \\n{X_train_scaled}')\n",
    "print(f'X_test_scaled = \\n{X_test_scaled}')"
   ]
  },
  {
   "cell_type": "markdown",
   "id": "3b65977d",
   "metadata": {},
   "source": [
    "## TRAINING & EVALUASI MODEL"
   ]
  },
  {
   "cell_type": "code",
   "execution_count": 22,
   "id": "50433176",
   "metadata": {},
   "outputs": [
    {
     "name": "stdout",
     "output_type": "stream",
     "text": [
      "MAE = 7.583333333333336\n",
      "MSE = 85.13888888888893\n"
     ]
    }
   ],
   "source": [
    "model.fit(X_train_scaled, y_train)\n",
    "y_pred = model.predict(X_test_scaled)\n",
    "\n",
    "mae = mean_absolute_error(y_test, y_pred)\n",
    "mse = mean_squared_error(y_test, y_pred)\n",
    "\n",
    "print(f'MAE = {mae}')\n",
    "print(f'MSE = {mse}')"
   ]
  }
 ],
 "metadata": {
  "kernelspec": {
   "display_name": "Python 3 (ipykernel)",
   "language": "python",
   "name": "python3"
  },
  "language_info": {
   "codemirror_mode": {
    "name": "ipython",
    "version": 3
   },
   "file_extension": ".py",
   "mimetype": "text/x-python",
   "name": "python",
   "nbconvert_exporter": "python",
   "pygments_lexer": "ipython3",
   "version": "3.8.0"
  }
 },
 "nbformat": 4,
 "nbformat_minor": 5
}
